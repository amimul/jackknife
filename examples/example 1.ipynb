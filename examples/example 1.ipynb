{
 "cells": [
  {
   "cell_type": "code",
   "execution_count": 1,
   "metadata": {
    "ExecuteTime": {
     "end_time": "2018-09-18T08:12:38.232692Z",
     "start_time": "2018-09-18T08:12:38.223700Z"
    }
   },
   "outputs": [],
   "source": [
    "import sys\n",
    "sys.path.append('..')\n",
    "import jackknife as jk\n",
    "\n",
    "import pandas as pd\n",
    "import numpy as np\n",
    "\n",
    "import matplotlib.pyplot as plt\n",
    "%matplotlib inline"
   ]
  },
  {
   "cell_type": "markdown",
   "metadata": {
    "ExecuteTime": {
     "end_time": "2018-09-18T08:12:38.249524Z",
     "start_time": "2018-09-18T08:12:38.237886Z"
    }
   },
   "source": [
    "## Load Demo Dataset\n"
   ]
  },
  {
   "cell_type": "code",
   "execution_count": 2,
   "metadata": {},
   "outputs": [
    {
     "data": {
      "text/html": [
       "<div>\n",
       "<style scoped>\n",
       "    .dataframe tbody tr th:only-of-type {\n",
       "        vertical-align: middle;\n",
       "    }\n",
       "\n",
       "    .dataframe tbody tr th {\n",
       "        vertical-align: top;\n",
       "    }\n",
       "\n",
       "    .dataframe thead th {\n",
       "        text-align: right;\n",
       "    }\n",
       "</style>\n",
       "<table border=\"1\" class=\"dataframe\">\n",
       "  <thead>\n",
       "    <tr style=\"text-align: right;\">\n",
       "      <th></th>\n",
       "      <th>pop</th>\n",
       "      <th>phys</th>\n",
       "      <th>beds</th>\n",
       "      <th>income</th>\n",
       "    </tr>\n",
       "  </thead>\n",
       "  <tbody>\n",
       "    <tr>\n",
       "      <th>0</th>\n",
       "      <td>8863164</td>\n",
       "      <td>23677</td>\n",
       "      <td>27700</td>\n",
       "      <td>184230</td>\n",
       "    </tr>\n",
       "    <tr>\n",
       "      <th>1</th>\n",
       "      <td>5105067</td>\n",
       "      <td>15153</td>\n",
       "      <td>21550</td>\n",
       "      <td>110928</td>\n",
       "    </tr>\n",
       "    <tr>\n",
       "      <th>2</th>\n",
       "      <td>2818199</td>\n",
       "      <td>7553</td>\n",
       "      <td>12449</td>\n",
       "      <td>55003</td>\n",
       "    </tr>\n",
       "    <tr>\n",
       "      <th>3</th>\n",
       "      <td>2498016</td>\n",
       "      <td>5905</td>\n",
       "      <td>6179</td>\n",
       "      <td>48931</td>\n",
       "    </tr>\n",
       "    <tr>\n",
       "      <th>4</th>\n",
       "      <td>2410556</td>\n",
       "      <td>6062</td>\n",
       "      <td>6369</td>\n",
       "      <td>58818</td>\n",
       "    </tr>\n",
       "  </tbody>\n",
       "</table>\n",
       "</div>"
      ],
      "text/plain": [
       "       pop   phys   beds  income\n",
       "0  8863164  23677  27700  184230\n",
       "1  5105067  15153  21550  110928\n",
       "2  2818199   7553  12449   55003\n",
       "3  2498016   5905   6179   48931\n",
       "4  2410556   6062   6369   58818"
      ]
     },
     "execution_count": 2,
     "metadata": {},
     "output_type": "execute_result"
    }
   ],
   "source": [
    "tmp = pd.read_table(\"../data/demo-data-1.txt\", delim_whitespace=True, header=None)\n",
    "df = tmp[[4,7,8,15]]\n",
    "df.columns=[\"pop\", \"phys\", \"beds\", \"income\"]\n",
    "df.head()"
   ]
  },
  {
   "cell_type": "markdown",
   "metadata": {},
   "source": [
    "## Specify the model/algorithm\n",
    "Model/algorithm: Linear Regression, OLS, by solving linear equations and LU decomposition"
   ]
  },
  {
   "cell_type": "code",
   "execution_count": 3,
   "metadata": {},
   "outputs": [],
   "source": [
    "def linreg_ols_lu(y, X):\n",
    "    import numpy as np\n",
    "    try:  # solve OLS formula\n",
    "        return np.linalg.solve(np.dot(X.T, X), np.dot(X.T, y))\n",
    "    except np.linalg.LinAlgError:\n",
    "        print(\"LinAlgError: X*X' is singular or not square.\")\n",
    "        return None"
   ]
  },
  {
   "cell_type": "markdown",
   "metadata": {},
   "source": [
    "Wrap `linreg_ols_lu` into a generic wrapper for `jk.jackknife`"
   ]
  },
  {
   "cell_type": "code",
   "execution_count": 4,
   "metadata": {},
   "outputs": [],
   "source": [
    "def myfunc(data):\n",
    "    return linreg_ols_lu( data[:,0], data[:,1:] );"
   ]
  },
  {
   "cell_type": "markdown",
   "metadata": {},
   "source": [
    "## Example 1: phys vs beds\n",
    "\n",
    "### Prep the data\n",
    "Select `phys` as target variable, and use an intercept term (`1s`) and `beds` as design matrix."
   ]
  },
  {
   "cell_type": "code",
   "execution_count": 5,
   "metadata": {},
   "outputs": [],
   "source": [
    "y_train = df['phys'].values\n",
    "X_train = np.c_[np.ones(shape=(len(y_train),)), df['beds'].values]"
   ]
  },
  {
   "cell_type": "markdown",
   "metadata": {},
   "source": [
    "### Estimate all Delete-1 Jackknife subsamples"
   ]
  },
  {
   "cell_type": "code",
   "execution_count": 6,
   "metadata": {},
   "outputs": [],
   "source": [
    "theta_subsample, theta_fullsample = jk.jk_loop(\n",
    "    myfunc, np.c_[y_train, X_train], d=1)"
   ]
  },
  {
   "cell_type": "markdown",
   "metadata": {},
   "source": [
    "### Check the estimated coefficients\n",
    "The estimates for the full sample"
   ]
  },
  {
   "cell_type": "code",
   "execution_count": 7,
   "metadata": {},
   "outputs": [
    {
     "name": "stdout",
     "output_type": "stream",
     "text": [
      "[-95.93218474   0.74311644]\n"
     ]
    }
   ],
   "source": [
    "print(theta_fullsample)"
   ]
  },
  {
   "cell_type": "code",
   "execution_count": 8,
   "metadata": {},
   "outputs": [
    {
     "data": {
      "image/png": "[encoded data removed]",
      "text/plain": [
       "<Figure size 720x480 with 2 Axes>"
      ]
     },
     "metadata": {
      "needs_background": "light"
     },
     "output_type": "display_data"
    }
   ],
   "source": [
    "fig = plt.figure(dpi=120)\n",
    "plt.subplot(121)\n",
    "plt.boxplot(theta_subsample[:,0]);\n",
    "plt.xlabel('intercept');\n",
    "plt.subplot(122)\n",
    "plt.boxplot(theta_subsample[:,1]);\n",
    "plt.xlabel('beds');"
   ]
  },
  {
   "cell_type": "markdown",
   "metadata": {},
   "source": [
    "## Jackknife Estimates"
   ]
  },
  {
   "cell_type": "code",
   "execution_count": 9,
   "metadata": {},
   "outputs": [],
   "source": [
    "pvalues, tscores, theta_jack, se_jack, theta_biased = jk.jk_stats(\n",
    "    theta_subsample, theta_fullsample)"
   ]
  },
  {
   "cell_type": "markdown",
   "metadata": {},
   "source": [
    "The bias-corrected Jackknife estimates are"
   ]
  },
  {
   "cell_type": "code",
   "execution_count": 10,
   "metadata": {},
   "outputs": [
    {
     "name": "stdout",
     "output_type": "stream",
     "text": [
      "[-112.8288585     0.75614251]\n"
     ]
    }
   ],
   "source": [
    "print(theta_jack)"
   ]
  },
  {
   "cell_type": "markdown",
   "metadata": {},
   "source": [
    "what is quite different from the OLS estimates for the whole sample"
   ]
  },
  {
   "cell_type": "code",
   "execution_count": 11,
   "metadata": {},
   "outputs": [
    {
     "name": "stdout",
     "output_type": "stream",
     "text": [
      "[-95.93218474   0.74311644]\n"
     ]
    }
   ],
   "source": [
    "print(theta_fullsample)"
   ]
  },
  {
   "cell_type": "markdown",
   "metadata": {},
   "source": [
    "### Are the Jackknife Estimates significant?\n",
    "No, the bias-corrected Jackknife estimates are not stable. \n",
    "The intercept has a p-value around 0.1 what is very far away from zero."
   ]
  },
  {
   "cell_type": "code",
   "execution_count": 12,
   "metadata": {},
   "outputs": [
    {
     "name": "stdout",
     "output_type": "stream",
     "text": [
      "[0.107 0.   ]\n"
     ]
    }
   ],
   "source": [
    "print(pvalues.round(3))"
   ]
  },
  {
   "cell_type": "markdown",
   "metadata": {},
   "source": [
    "### Print everything"
   ]
  },
  {
   "cell_type": "code",
   "execution_count": 13,
   "metadata": {},
   "outputs": [
    {
     "name": "stdout",
     "output_type": "stream",
     "text": [
      "\n",
      "Delete-1 Jackknife, N=440\n",
      "                                 intercept    beds    \n",
      "                      p-Values:    0.10716    0.00000 \n",
      "                      t-Scores:   -1.61439   13.49103 \n",
      " Jackknife Standard Error (SE):   69.88949    0.05605 \n",
      "   Jackknife Estimates (theta): -112.829      0.756   \n",
      "     Jackknife Biased Estimate:  -95.894      0.743   \n",
      "          Full Sample Estimate:  -95.932      0.743   \n"
     ]
    }
   ],
   "source": [
    "jk.jk_print(\n",
    "    pvalues, tscores, theta_jack, se_jack, theta_biased, theta_fullsample, \n",
    "    varnames=['intercept', 'beds'], N=len(y_train), d=1)"
   ]
  }
 ],
 "metadata": {
  "kernelspec": {
   "display_name": "Python 3",
   "language": "python",
   "name": "python3"
  },
  "language_info": {
   "codemirror_mode": {
    "name": "ipython",
    "version": 3
   },
   "file_extension": ".py",
   "mimetype": "text/x-python",
   "name": "python",
   "nbconvert_exporter": "python",
   "pygments_lexer": "ipython3",
   "version": "3.6.2"
  },
  "toc": {
   "base_numbering": 1,
   "nav_menu": {},
   "number_sections": true,
   "sideBar": true,
   "skip_h1_title": false,
   "title_cell": "Table of Contents",
   "title_sidebar": "Contents",
   "toc_cell": false,
   "toc_position": {},
   "toc_section_display": true,
   "toc_window_display": false
  },
  "varInspector": {
   "cols": {
    "lenName": 16,
    "lenType": 16,
    "lenVar": 40
   },
   "kernels_config": {
    "python": {
     "delete_cmd_postfix": "",
     "delete_cmd_prefix": "del ",
     "library": "var_list.py",
     "varRefreshCmd": "print(var_dic_list())"
    },
    "r": {
     "delete_cmd_postfix": ") ",
     "delete_cmd_prefix": "rm(",
     "library": "var_list.r",
     "varRefreshCmd": "cat(var_dic_list()) "
    }
   },
   "types_to_exclude": [
    "module",
    "function",
    "builtin_function_or_method",
    "instance",
    "_Feature"
   ],
   "window_display": false
  }
 },
 "nbformat": 4,
 "nbformat_minor": 2
}
