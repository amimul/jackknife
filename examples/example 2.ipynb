{
 "cells": [
  {
   "cell_type": "code",
   "execution_count": 1,
   "metadata": {},
   "outputs": [],
   "source": [
    "import sys\n",
    "sys.path.append('..')\n",
    "import jackknife as jk\n",
    "\n",
    "import pandas as pd\n",
    "import numpy as np"
   ]
  },
  {
   "cell_type": "markdown",
   "metadata": {},
   "source": [
    "## Load Dataset"
   ]
  },
  {
   "cell_type": "code",
   "execution_count": 2,
   "metadata": {},
   "outputs": [
    {
     "data": {
      "text/html": [
       "<div>\n",
       "<style scoped>\n",
       "    .dataframe tbody tr th:only-of-type {\n",
       "        vertical-align: middle;\n",
       "    }\n",
       "\n",
       "    .dataframe tbody tr th {\n",
       "        vertical-align: top;\n",
       "    }\n",
       "\n",
       "    .dataframe thead th {\n",
       "        text-align: right;\n",
       "    }\n",
       "</style>\n",
       "<table border=\"1\" class=\"dataframe\">\n",
       "  <thead>\n",
       "    <tr style=\"text-align: right;\">\n",
       "      <th></th>\n",
       "      <th>pop</th>\n",
       "      <th>phys</th>\n",
       "      <th>beds</th>\n",
       "      <th>income</th>\n",
       "    </tr>\n",
       "  </thead>\n",
       "  <tbody>\n",
       "    <tr>\n",
       "      <th>0</th>\n",
       "      <td>8863164</td>\n",
       "      <td>23677</td>\n",
       "      <td>27700</td>\n",
       "      <td>184230</td>\n",
       "    </tr>\n",
       "    <tr>\n",
       "      <th>1</th>\n",
       "      <td>5105067</td>\n",
       "      <td>15153</td>\n",
       "      <td>21550</td>\n",
       "      <td>110928</td>\n",
       "    </tr>\n",
       "    <tr>\n",
       "      <th>2</th>\n",
       "      <td>2818199</td>\n",
       "      <td>7553</td>\n",
       "      <td>12449</td>\n",
       "      <td>55003</td>\n",
       "    </tr>\n",
       "    <tr>\n",
       "      <th>3</th>\n",
       "      <td>2498016</td>\n",
       "      <td>5905</td>\n",
       "      <td>6179</td>\n",
       "      <td>48931</td>\n",
       "    </tr>\n",
       "    <tr>\n",
       "      <th>4</th>\n",
       "      <td>2410556</td>\n",
       "      <td>6062</td>\n",
       "      <td>6369</td>\n",
       "      <td>58818</td>\n",
       "    </tr>\n",
       "  </tbody>\n",
       "</table>\n",
       "</div>"
      ],
      "text/plain": [
       "       pop   phys   beds  income\n",
       "0  8863164  23677  27700  184230\n",
       "1  5105067  15153  21550  110928\n",
       "2  2818199   7553  12449   55003\n",
       "3  2498016   5905   6179   48931\n",
       "4  2410556   6062   6369   58818"
      ]
     },
     "execution_count": 2,
     "metadata": {},
     "output_type": "execute_result"
    }
   ],
   "source": [
    "tmp = pd.read_table(\"../data/demo-data-1.txt\", delim_whitespace=True, header=None)\n",
    "df = tmp[[4,7,8,15]]\n",
    "df.columns=[\"pop\", \"phys\", \"beds\", \"income\"]\n",
    "df.head()"
   ]
  },
  {
   "cell_type": "markdown",
   "metadata": {},
   "source": [
    "## Specify the Model/Algorithm"
   ]
  },
  {
   "cell_type": "code",
   "execution_count": 3,
   "metadata": {},
   "outputs": [],
   "source": [
    "def linreg_ols_lu(y, X):\n",
    "    import numpy as np\n",
    "    try:  # solve OLS formula\n",
    "        return np.linalg.solve(np.dot(X.T, X), np.dot(X.T, y))\n",
    "    except np.linalg.LinAlgError:\n",
    "        print(\"LinAlgError: X*X' is singular or not square.\")\n",
    "        return None"
   ]
  },
  {
   "cell_type": "code",
   "execution_count": 4,
   "metadata": {},
   "outputs": [],
   "source": [
    "def myfunc(data):\n",
    "    return linreg_ols_lu( data[:,0], data[:,1:] );"
   ]
  },
  {
   "cell_type": "markdown",
   "metadata": {},
   "source": [
    "## Prep the Data - Use log data"
   ]
  },
  {
   "cell_type": "code",
   "execution_count": 5,
   "metadata": {},
   "outputs": [],
   "source": [
    "y_train = np.log(df['phys'].values)\n",
    "X_train = np.c_[np.ones(shape=(len(y_train),)), np.log(df['beds'].values)]"
   ]
  },
  {
   "cell_type": "markdown",
   "metadata": {},
   "source": [
    "## Run Jackknife Estimation"
   ]
  },
  {
   "cell_type": "code",
   "execution_count": 6,
   "metadata": {},
   "outputs": [],
   "source": [
    "theta_subsample, theta_fullsample = jk.jk_loop(\n",
    "    myfunc, np.c_[y_train, X_train], d=1)"
   ]
  },
  {
   "cell_type": "code",
   "execution_count": 7,
   "metadata": {},
   "outputs": [],
   "source": [
    "pvalues, tscores, theta_jack, se_jack, theta_biased = jk.jk_stats(\n",
    "    theta_subsample, theta_fullsample)"
   ]
  },
  {
   "cell_type": "code",
   "execution_count": 8,
   "metadata": {},
   "outputs": [
    {
     "name": "stdout",
     "output_type": "stream",
     "text": [
      "\n",
      "Delete-1 Jackknife, N=440\n",
      "                                 intercept    beds    \n",
      "                      p-Values:    0.00004    0.00000 \n",
      "                      t-Scores:   -4.15554   40.79625 \n",
      " Jackknife Standard Error (SE):    0.17872    0.02514 \n",
      "   Jackknife Estimates (theta):   -0.743      1.026   \n",
      "     Jackknife Biased Estimate:   -0.744      1.026   \n",
      "          Full Sample Estimate:   -0.744      1.026   \n"
     ]
    }
   ],
   "source": [
    "jk.jk_print(\n",
    "    pvalues, tscores, theta_jack, se_jack, theta_biased, theta_fullsample, \n",
    "    varnames=['intercept', 'beds'], N=len(y_train), d=1)"
   ]
  },
  {
   "cell_type": "markdown",
   "metadata": {},
   "source": [
    "## How does the model actually look like?\n",
    "Convert parameter estimates to original scale"
   ]
  },
  {
   "cell_type": "code",
   "execution_count": 9,
   "metadata": {},
   "outputs": [],
   "source": [
    "y_predict = np.exp(np.dot(X_train,theta_jack))\n",
    "#y_predict"
   ]
  },
  {
   "cell_type": "code",
   "execution_count": 10,
   "metadata": {},
   "outputs": [
    {
     "data": {
      "text/plain": [
       "183645117.08850178"
      ]
     },
     "execution_count": 10,
     "metadata": {},
     "output_type": "execute_result"
    }
   ],
   "source": [
    "ssr = np.sum((y_predict - df['phys'].values)**2) \n",
    "ssr"
   ]
  },
  {
   "cell_type": "code",
   "execution_count": 11,
   "metadata": {},
   "outputs": [
    {
     "data": {
      "text/plain": [
       "1406206298.9977272"
      ]
     },
     "execution_count": 11,
     "metadata": {},
     "output_type": "execute_result"
    }
   ],
   "source": [
    "s2 = np.sum(  (df['phys'].values - np.mean(df['phys'].values))**2 )\n",
    "s2"
   ]
  },
  {
   "cell_type": "code",
   "execution_count": 12,
   "metadata": {},
   "outputs": [
    {
     "data": {
      "text/plain": [
       "0.869403858296329"
      ]
     },
     "execution_count": 12,
     "metadata": {},
     "output_type": "execute_result"
    }
   ],
   "source": [
    "R2 = 1 - ssr/s2\n",
    "R2"
   ]
  },
  {
   "cell_type": "markdown",
   "metadata": {},
   "source": [
    "## Conclusion\n",
    "Using log values can remove parameter instability caused by \"outliers\". "
   ]
  }
 ],
 "metadata": {
  "kernelspec": {
   "display_name": "Python 3",
   "language": "python",
   "name": "python3"
  },
  "language_info": {
   "codemirror_mode": {
    "name": "ipython",
    "version": 3
   },
   "file_extension": ".py",
   "mimetype": "text/x-python",
   "name": "python",
   "nbconvert_exporter": "python",
   "pygments_lexer": "ipython3",
   "version": "3.6.2"
  }
 },
 "nbformat": 4,
 "nbformat_minor": 2
}
